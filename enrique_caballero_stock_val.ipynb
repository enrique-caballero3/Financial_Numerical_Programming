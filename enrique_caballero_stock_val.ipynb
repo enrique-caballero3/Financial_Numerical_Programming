{
 "cells": [
  {
   "cell_type": "code",
   "execution_count": 7,
   "id": "e140245b-3fa2-49c2-b7f6-a94278f44c2b",
   "metadata": {},
   "outputs": [
    {
     "name": "stdout",
     "output_type": "stream",
     "text": [
      "The theoretical value of the Stock is 85.0\n"
     ]
    }
   ],
   "source": [
    "# Calculate the value of a stock for a constant growth firm\n",
    "#\n",
    "# Inputs\n",
    "re = 0.08\n",
    "g = 0.02\n",
    "Div0 = 5\n",
    "#\n",
    "# Calculate Stock Price\n",
    "Stock_Price = Div0 * (1 + g) / (re - g)\n",
    "print(\"The theoretical value of the Stock is\", Stock_Price)"
   ]
  },
  {
   "cell_type": "code",
   "execution_count": null,
   "id": "629b5878-d857-4a97-a91b-9ef8acf9d12c",
   "metadata": {},
   "outputs": [],
   "source": []
  }
 ],
 "metadata": {
  "kernelspec": {
   "display_name": "Python 3 (ipykernel)",
   "language": "python",
   "name": "python3"
  },
  "language_info": {
   "codemirror_mode": {
    "name": "ipython",
    "version": 3
   },
   "file_extension": ".py",
   "mimetype": "text/x-python",
   "name": "python",
   "nbconvert_exporter": "python",
   "pygments_lexer": "ipython3",
   "version": "3.12.4"
  }
 },
 "nbformat": 4,
 "nbformat_minor": 5
}
