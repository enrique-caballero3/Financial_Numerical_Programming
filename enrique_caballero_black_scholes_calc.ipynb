{
 "cells": [
  {
   "cell_type": "code",
   "execution_count": 12,
   "id": "4df818e0-2ae3-42c7-9619-34f4f0e0af32",
   "metadata": {},
   "outputs": [
    {
     "name": "stdout",
     "output_type": "stream",
     "text": [
      "BS Call Option Value =  8.59\n",
      "BS Put Option Value =  3.71\n"
     ]
    }
   ],
   "source": [
    "# Black-Scholes Calculation\n",
    "# Non-dividend paying stock modified to include dividend yield\n",
    "\n",
    "# Inputs:\n",
    "# S = Stock Price\n",
    "# K = Strike Price\n",
    "# r = riskfree rate as fraction\n",
    "# Sigma = Volatility as fraction\n",
    "# T = Time to maturity in years\n",
    "# q = dividend yield as a fraction\n",
    "# bscall - value of call option\n",
    "# bsput - value of put option\n",
    "\n",
    "import numpy as np\n",
    "import pandas as pd\n",
    "import scipy\n",
    "import scipy.stats\n",
    "import math\n",
    "\n",
    "# from yahoofinancials import YahooFinancials\n",
    "# import pandas_datareader as pdr\n",
    "# from sklearn.linear_model import LinearRegression\n",
    "# from sklearn.metrics import r2_score\n",
    "\n",
    "S = 100\n",
    "K = 100\n",
    "r = 0.05\n",
    "T = 1\n",
    "Sigma = 0.15\n",
    "q = 0.00  # dividend yield added\n",
    "\n",
    "d1 = (np.log(S / K) + (r - q + 0.5 * Sigma**2) * T) / (Sigma * T**0.5)\n",
    "d2 = d1 - Sigma * T**0.5\n",
    "\n",
    "nd1 = scipy.stats.norm.cdf(d1)\n",
    "nd2 = scipy.stats.norm.cdf(d2)\n",
    "\n",
    "# Debug - To check intermediate values, uncomment the next line\n",
    "# print(d1, d2, nd1, nd2)\n",
    "\n",
    "# Calculate the value of the call option considering dividend yield\n",
    "bscall = (S * np.exp(-q * T) * nd1) - (K * math.exp(-r * T) * nd2)\n",
    "bscall = np.round(bscall, 2)\n",
    "print(\"BS Call Option Value = \", bscall)\n",
    "\n",
    "# Calculate the value of the put option considering dividend yield\n",
    "bsput = (K * math.exp(-r * T) * (1 - nd2)) - (S * np.exp(-q * T) * (1 - nd1))\n",
    "bsput = np.round(bsput, 2)\n",
    "print(\"BS Put Option Value = \", bsput)"
   ]
  },
  {
   "cell_type": "code",
   "execution_count": null,
   "id": "d59525dc-bd65-4ec8-b6de-2b44f9536832",
   "metadata": {},
   "outputs": [],
   "source": []
  }
 ],
 "metadata": {
  "kernelspec": {
   "display_name": "Python 3 (ipykernel)",
   "language": "python",
   "name": "python3"
  },
  "language_info": {
   "codemirror_mode": {
    "name": "ipython",
    "version": 3
   },
   "file_extension": ".py",
   "mimetype": "text/x-python",
   "name": "python",
   "nbconvert_exporter": "python",
   "pygments_lexer": "ipython3",
   "version": "3.12.4"
  }
 },
 "nbformat": 4,
 "nbformat_minor": 5
}
