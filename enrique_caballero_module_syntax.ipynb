{
 "cells": [
  {
   "cell_type": "code",
   "execution_count": 1,
   "id": "5ecf15f3-0c11-4be9-8c70-6b62883df361",
   "metadata": {},
   "outputs": [
    {
     "name": "stdout",
     "output_type": "stream",
     "text": [
      "Hello, Enrique\n"
     ]
    }
   ],
   "source": [
    "# File created Sept, 2024\n",
    "# Shows how to create a module\n",
    "# Method 1: define a function\n",
    "#\n",
    "def greet(name):\n",
    "    print(\"Hello, \" + name)\n",
    "#\n",
    "# Call the function with the required attribute\n",
    "greet(\"Enrique\")"
   ]
  },
  {
   "cell_type": "code",
   "execution_count": 2,
   "id": "9cb1fc52-65ff-432e-8c45-d89fdf62e4be",
   "metadata": {},
   "outputs": [
    {
     "name": "stdout",
     "output_type": "stream",
     "text": [
      "Hello, Enrique Caballero\n"
     ]
    }
   ],
   "source": [
    "# Create a file that has the function greeting. Call the file, module_name\n",
    "# import the file\n",
    "# The functions calls embedded in the file can be called using the name-of-file.function-name syntax\n",
    "#\n",
    "# File module_name has the function \"greeting\" defined\n",
    "# call the function using module_name.greeting()\n",
    "#\n",
    "import module_name\n",
    "module_name.greeting(\"Enrique Caballero\")"
   ]
  },
  {
   "cell_type": "code",
   "execution_count": null,
   "id": "66bebab8-7165-45dc-b5de-feac32ffbec3",
   "metadata": {},
   "outputs": [],
   "source": []
  }
 ],
 "metadata": {
  "kernelspec": {
   "display_name": "Python 3 (ipykernel)",
   "language": "python",
   "name": "python3"
  },
  "language_info": {
   "codemirror_mode": {
    "name": "ipython",
    "version": 3
   },
   "file_extension": ".py",
   "mimetype": "text/x-python",
   "name": "python",
   "nbconvert_exporter": "python",
   "pygments_lexer": "ipython3",
   "version": "3.12.4"
  }
 },
 "nbformat": 4,
 "nbformat_minor": 5
}
