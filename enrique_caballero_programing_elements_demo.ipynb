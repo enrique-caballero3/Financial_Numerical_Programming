{
 "cells": [
  {
   "cell_type": "code",
   "execution_count": 27,
   "id": "9d1f34ed-a34f-459f-9e75-4beedef0676c",
   "metadata": {},
   "outputs": [
    {
     "name": "stdout",
     "output_type": "stream",
     "text": [
      "The notebook is running in: /Users/enriquecaballero/Documents/Python\n"
     ]
    }
   ],
   "source": [
    "#demo different programing elements\n",
    "#\n",
    "import os\n",
    "# Current working directory\n",
    "notebook_directory = os.getcwd()\n",
    "print(f\"The notebook is running in: {notebook_directory}\")"
   ]
  },
  {
   "cell_type": "code",
   "execution_count": 29,
   "id": "23620025-0ec5-4a66-9be1-f14d76df988f",
   "metadata": {},
   "outputs": [
    {
     "name": "stdout",
     "output_type": "stream",
     "text": [
      "[1, 2, 3, 4, 5, 6, 7, 8, 9]\n"
     ]
    }
   ],
   "source": [
    "numbers = list(range(1,10))\n",
    "print(numbers)"
   ]
  },
  {
   "cell_type": "code",
   "execution_count": 31,
   "id": "7e1d5f11-5ff8-4c53-8b2c-503289526776",
   "metadata": {},
   "outputs": [
    {
     "name": "stdout",
     "output_type": "stream",
     "text": [
      "0 1.5\n",
      "1 2.5\n",
      "2 3.5\n",
      "3 4.5\n",
      "4 5.5\n",
      "5 6.5\n",
      "6 7.5\n",
      "7 8.5\n",
      "8 9.5\n"
     ]
    }
   ],
   "source": [
    "for z in range(0, 9):\n",
    "    print(z, numbers[z] + 0.5)"
   ]
  },
  {
   "cell_type": "code",
   "execution_count": 33,
   "id": "544f8e04-2180-4539-b2f7-dd90338282e5",
   "metadata": {},
   "outputs": [
    {
     "name": "stdout",
     "output_type": "stream",
     "text": [
      "10 10.5\n",
      "11 11.5\n",
      "12 12.5\n",
      "13 13.5\n",
      "14 14.5\n",
      "15 15.5\n",
      "16 16.5\n",
      "17 17.5\n",
      "18 18.5\n",
      "19 19.5\n"
     ]
    }
   ],
   "source": [
    "for z in range(10, 20):\n",
    "    print(z, z + 0.5)"
   ]
  },
  {
   "cell_type": "code",
   "execution_count": 43,
   "id": "b636eefa-ffb0-41f2-adeb-33be9b7e0290",
   "metadata": {},
   "outputs": [
    {
     "name": "stdout",
     "output_type": "stream",
     "text": [
      "[]\n",
      "0\n",
      "1\n",
      "2\n",
      "3\n",
      "4\n",
      "5\n",
      "6\n",
      "7\n",
      "8\n",
      "9\n",
      "[10.5, 11.5, 12.5, 13.5, 14.5, 15.5, 16.5, 17.5, 18.5, 19.5]\n",
      "10\n"
     ]
    }
   ],
   "source": [
    "# Declare an empty list\n",
    "w = list()\n",
    "print(w)\n",
    "j = 0\n",
    "for z in range(10, 20):\n",
    "# Append to list as needed\n",
    "    w.append(z + 0.5)\n",
    "    print(j)\n",
    "    j = j + 1\n",
    "print(w)\n",
    "print(j)"
   ]
  },
  {
   "cell_type": "code",
   "execution_count": 45,
   "id": "7bfafa4c-8e68-42b6-ae7b-13c0071eb381",
   "metadata": {},
   "outputs": [
    {
     "name": "stdout",
     "output_type": "stream",
     "text": [
      "Option is out of the money\n"
     ]
    }
   ],
   "source": [
    "stockp = 100\n",
    "K = 100\n",
    "if stockp > K:\n",
    "    print(\"Option is in the money\")\n",
    "else:\n",
    "    print(\"Option is out of the money\")"
   ]
  },
  {
   "cell_type": "code",
   "execution_count": 47,
   "id": "d2427d7f-9d0e-4a12-91bd-3b5a9b83442b",
   "metadata": {},
   "outputs": [
    {
     "name": "stdout",
     "output_type": "stream",
     "text": [
      "Option is at-the-money\n"
     ]
    }
   ],
   "source": [
    "stockp = 100\n",
    "K = 100\n",
    "if stockp > K:\n",
    "    print(\"Option is in-the-money\")\n",
    "elif stockp == K:\n",
    "    print(\"Option is at-the-money\")\n",
    "else:\n",
    "    print(\"Option is out-of-the-money\")"
   ]
  },
  {
   "cell_type": "code",
   "execution_count": 51,
   "id": "1f28787a-9fe4-4728-9f74-32e23a14b3b3",
   "metadata": {},
   "outputs": [
    {
     "data": {
      "text/plain": [
       "array([[ 0,  1,  2,  3,  4],\n",
       "       [ 5,  6,  7,  8,  9],\n",
       "       [10, 11, 12, 13, 14],\n",
       "       [15, 16, 17, 18, 19]])"
      ]
     },
     "execution_count": 51,
     "metadata": {},
     "output_type": "execute_result"
    }
   ],
   "source": [
    "# This module illustrates different ways to create 2-dimensional arrays pre-populated with zeros or ones or numbersimport numpy as np\n",
    "import numpy as np\n",
    "carray = np.arange(0, 20).reshape(4, 5)\n",
    "carray"
   ]
  },
  {
   "cell_type": "code",
   "execution_count": 53,
   "id": "7b4dcd40-0166-4a08-a958-67519ea040b2",
   "metadata": {},
   "outputs": [
    {
     "name": "stdout",
     "output_type": "stream",
     "text": [
      "Printing the array filled with zeros\n",
      "[[0. 0. 0.]\n",
      " [0. 0. 0.]\n",
      " [0. 0. 0.]]\n",
      "\n",
      "Printing the array filled with ones\n",
      "[[1. 1. 1.]\n",
      " [1. 1. 1.]\n",
      " [1. 1. 1.]]\n"
     ]
    }
   ],
   "source": [
    "czeros = np.zeros((3, 3))\n",
    "print(\"Printing the array filled with zeros\")\n",
    "print(czeros)\n",
    "print()\n",
    "print(\"Printing the array filled with ones\")\n",
    "cones = np.ones((3, 3))\n",
    "print(cones)"
   ]
  },
  {
   "cell_type": "code",
   "execution_count": 59,
   "id": "2e1d392a-2cc3-461a-a102-584faeb4865d",
   "metadata": {},
   "outputs": [
    {
     "name": "stdout",
     "output_type": "stream",
     "text": [
      "A [[ 2  4]\n",
      " [ 5 -6]]\n",
      "B [[ 9 -3]\n",
      " [ 3  6]]\n",
      "C [[11  1]\n",
      " [ 8  0]]\n",
      "D [[ 18 -12]\n",
      " [ 15 -36]]\n",
      "E [[ 30  18]\n",
      " [ 27 -51]]\n"
     ]
    }
   ],
   "source": [
    "# Add two matrices\n",
    "A = np.array([[2, 4], [5, -6]])\n",
    "print(\"A\", A)\n",
    "B = np.array([[9, -3], [3, 6]])\n",
    "print(\"B\", B)\n",
    "\n",
    "# Element-wise addition\n",
    "C = A + B\n",
    "print(\"C\", C)\n",
    "\n",
    "# Element-wise multiplication\n",
    "D = A * B\n",
    "print(\"D\", D)\n",
    "\n",
    "# Dot product\n",
    "E = A.dot(B)\n",
    "print(\"E\", E)"
   ]
  },
  {
   "cell_type": "code",
   "execution_count": 61,
   "id": "4b5acb30-8c0d-40f5-b92c-77ff2b831d3b",
   "metadata": {},
   "outputs": [
    {
     "name": "stdout",
     "output_type": "stream",
     "text": [
      "[False  True False  True]\n",
      "[False False  True False]\n"
     ]
    }
   ],
   "source": [
    "m = np.array([1, 2, 3, 4])\n",
    "n = np.array([4, 2, 2, 4])\n",
    "print(m == n)\n",
    "print(m > n)"
   ]
  },
  {
   "cell_type": "code",
   "execution_count": 63,
   "id": "8fd0add6-274b-496d-bf76-4fe2093fd412",
   "metadata": {},
   "outputs": [
    {
     "data": {
      "text/html": [
       "<div>\n",
       "<style scoped>\n",
       "    .dataframe tbody tr th:only-of-type {\n",
       "        vertical-align: middle;\n",
       "    }\n",
       "\n",
       "    .dataframe tbody tr th {\n",
       "        vertical-align: top;\n",
       "    }\n",
       "\n",
       "    .dataframe thead th {\n",
       "        text-align: right;\n",
       "    }\n",
       "</style>\n",
       "<table border=\"1\" class=\"dataframe\">\n",
       "  <thead>\n",
       "    <tr style=\"text-align: right;\">\n",
       "      <th></th>\n",
       "      <th>a</th>\n",
       "      <th>b</th>\n",
       "      <th>c</th>\n",
       "    </tr>\n",
       "  </thead>\n",
       "  <tbody>\n",
       "    <tr>\n",
       "      <th>1</th>\n",
       "      <td>1</td>\n",
       "      <td>4</td>\n",
       "      <td>7</td>\n",
       "    </tr>\n",
       "    <tr>\n",
       "      <th>2</th>\n",
       "      <td>2</td>\n",
       "      <td>5</td>\n",
       "      <td>8</td>\n",
       "    </tr>\n",
       "    <tr>\n",
       "      <th>3</th>\n",
       "      <td>3</td>\n",
       "      <td>6</td>\n",
       "      <td>9</td>\n",
       "    </tr>\n",
       "  </tbody>\n",
       "</table>\n",
       "</div>"
      ],
      "text/plain": [
       "   a  b  c\n",
       "1  1  4  7\n",
       "2  2  5  8\n",
       "3  3  6  9"
      ]
     },
     "execution_count": 63,
     "metadata": {},
     "output_type": "execute_result"
    }
   ],
   "source": [
    "# Panda Data Frames\n",
    "import pandas as pd\n",
    "\n",
    "df = pd.DataFrame(\n",
    "        {\"a\": [1, 2, 3],\n",
    "        \"b\": [4, 5, 6],\n",
    "        \"c\": [7, 8, 9]},\n",
    "    index=[1, 2, 3])\n",
    "df"
   ]
  },
  {
   "cell_type": "code",
   "execution_count": 65,
   "id": "34de9044-08fd-46f0-ba0e-654d20b95702",
   "metadata": {},
   "outputs": [
    {
     "name": "stdout",
     "output_type": "stream",
     "text": [
      "24\n",
      "18\n"
     ]
    }
   ],
   "source": [
    "print(sum(df.c))\n",
    "print(sum(df.loc[3]))"
   ]
  },
  {
   "cell_type": "code",
   "execution_count": null,
   "id": "2614f1b7-c336-4b2e-9991-5ccd06f3f666",
   "metadata": {},
   "outputs": [],
   "source": []
  }
 ],
 "metadata": {
  "kernelspec": {
   "display_name": "Python 3 (ipykernel)",
   "language": "python",
   "name": "python3"
  },
  "language_info": {
   "codemirror_mode": {
    "name": "ipython",
    "version": 3
   },
   "file_extension": ".py",
   "mimetype": "text/x-python",
   "name": "python",
   "nbconvert_exporter": "python",
   "pygments_lexer": "ipython3",
   "version": "3.12.4"
  }
 },
 "nbformat": 4,
 "nbformat_minor": 5
}
