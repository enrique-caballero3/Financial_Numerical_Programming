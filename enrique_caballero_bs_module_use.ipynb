{
 "cells": [
  {
   "cell_type": "code",
   "execution_count": 7,
   "id": "c985a3e2-8260-47ac-acea-b646ad7d0ae3",
   "metadata": {},
   "outputs": [
    {
     "name": "stdout",
     "output_type": "stream",
     "text": [
      "10.45 5.57\n"
     ]
    },
    {
     "data": {
      "text/plain": [
       "5.23"
      ]
     },
     "execution_count": 7,
     "metadata": {},
     "output_type": "execute_result"
    }
   ],
   "source": [
    "import bs_module\n",
    "optval1 = bs_module.bsval(100, 100, 1, 0.05, 0.2, 1)\n",
    "optval2 = bs_module.bsval(100, 100, 1, 0.05, 0.2, 2)\n",
    "print(optval1, optval2)\n",
    "\n",
    "S = 50\n",
    "K = 50\n",
    "T = 1\n",
    "r = 0.05\n",
    "Sigma = 0.2\n",
    "optiontype = 1\n",
    "bs_module.bsval(S, K, T, r, Sigma, optiontype)\n"
   ]
  },
  {
   "cell_type": "code",
   "execution_count": null,
   "id": "64fd31db-4f62-491a-a007-a277668c0b60",
   "metadata": {},
   "outputs": [],
   "source": []
  }
 ],
 "metadata": {
  "kernelspec": {
   "display_name": "Python 3 (ipykernel)",
   "language": "python",
   "name": "python3"
  },
  "language_info": {
   "codemirror_mode": {
    "name": "ipython",
    "version": 3
   },
   "file_extension": ".py",
   "mimetype": "text/x-python",
   "name": "python",
   "nbconvert_exporter": "python",
   "pygments_lexer": "ipython3",
   "version": "3.12.4"
  }
 },
 "nbformat": 4,
 "nbformat_minor": 5
}
