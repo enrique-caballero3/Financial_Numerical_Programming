{
 "cells": [
  {
   "cell_type": "code",
   "execution_count": 7,
   "id": "489d17cd-7103-4596-b9c9-1719ef7bae1f",
   "metadata": {},
   "outputs": [
    {
     "name": "stdout",
     "output_type": "stream",
     "text": [
      "The theoretical value of the bond is 928.9379834902386\n"
     ]
    }
   ],
   "source": [
    "# Calculate the value of a semi-annual bond\n",
    "#\n",
    "# Inputs\n",
    "# M = Face Value\n",
    "# c = Coupon Rate, semi-annual\n",
    "# y = yield-to-maturity, semi-annual\n",
    "# T = Time to maturity\n",
    "# Bond pays semiannual coupon\n",
    "#\n",
    "M = 1000\n",
    "c = 0.06\n",
    "y = 0.07\n",
    "T = 10\n",
    "#\n",
    "# Convert to per-period\n",
    "r = y / 2\n",
    "C = (c / 2) * 1000\n",
    "N = T * 2\n",
    "#\n",
    "# Calculate PV factor for N periods @ r%\n",
    "PVIF = 1 / (1 + r)**N\n",
    "#\n",
    "# Calculate PV factor of Annuity for N periods @ r%\n",
    "PVIFA = (1 / r) - (PVIF * (1 / r))\n",
    "#\n",
    "# Calculate Bond Price\n",
    "Bond_Price = C * PVIFA + M * PVIF\n",
    "print(\"The theoretical value of the bond is\", Bond_Price)"
   ]
  },
  {
   "cell_type": "code",
   "execution_count": null,
   "id": "3c9575bc-4162-456f-aaad-6e6fbc22b6d6",
   "metadata": {},
   "outputs": [],
   "source": []
  }
 ],
 "metadata": {
  "kernelspec": {
   "display_name": "Python 3 (ipykernel)",
   "language": "python",
   "name": "python3"
  },
  "language_info": {
   "codemirror_mode": {
    "name": "ipython",
    "version": 3
   },
   "file_extension": ".py",
   "mimetype": "text/x-python",
   "name": "python",
   "nbconvert_exporter": "python",
   "pygments_lexer": "ipython3",
   "version": "3.12.4"
  }
 },
 "nbformat": 4,
 "nbformat_minor": 5
}
