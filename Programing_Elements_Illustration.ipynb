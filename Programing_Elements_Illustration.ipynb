{
 "cells": [
  {
   "cell_type": "code",
   "execution_count": 3,
   "id": "735854c4-016a-4dd8-a72d-aab0505c954b",
   "metadata": {},
   "outputs": [],
   "source": [
    "#This Program illustrates different programing elements\n",
    "#Created September 2024\n",
    "#\n",
    "#Set work directory\n",
    "import os"
   ]
  },
  {
   "cell_type": "code",
   "execution_count": 5,
   "id": "a9019a27-a453-4e58-b42c-a31ff6aa2be8",
   "metadata": {},
   "outputs": [
    {
     "name": "stdout",
     "output_type": "stream",
     "text": [
      "[1, 2, 3, 4, 5, 6, 7, 8, 9]\n"
     ]
    }
   ],
   "source": [
    "numbers = list(range(1,10))\n",
    "print(numbers)"
   ]
  },
  {
   "cell_type": "code",
   "execution_count": 11,
   "id": "6b2db66a-57a1-4531-a3f2-fa3fd6c2187b",
   "metadata": {},
   "outputs": [
    {
     "name": "stdout",
     "output_type": "stream",
     "text": [
      "0 1.5\n",
      "1 2.5\n",
      "2 3.5\n",
      "3 4.5\n",
      "4 5.5\n",
      "5 6.5\n",
      "6 7.5\n",
      "7 8.5\n",
      "8 9.5\n"
     ]
    }
   ],
   "source": [
    "for z in range (0,9) : (\n",
    "    print(z, numbers[z]+0.5)\n",
    ")"
   ]
  },
  {
   "cell_type": "code",
   "execution_count": null,
   "id": "f5280327-2f4b-4e1a-bece-ce26fcf16508",
   "metadata": {},
   "outputs": [],
   "source": []
  }
 ],
 "metadata": {
  "kernelspec": {
   "display_name": "Python 3 (ipykernel)",
   "language": "python",
   "name": "python3"
  },
  "language_info": {
   "codemirror_mode": {
    "name": "ipython",
    "version": 3
   },
   "file_extension": ".py",
   "mimetype": "text/x-python",
   "name": "python",
   "nbconvert_exporter": "python",
   "pygments_lexer": "ipython3",
   "version": "3.12.4"
  }
 },
 "nbformat": 4,
 "nbformat_minor": 5
}
